{
 "cells": [
  {
   "cell_type": "code",
   "execution_count": 1,
   "id": "875556c1",
   "metadata": {},
   "outputs": [],
   "source": [
    "#imports\n",
    "import pandas as pd\n",
    "import seaborn as sns\n",
    "import matplotlib.pyplot as plt\n",
    "from sklearn.preprocessing import MinMaxScaler\n",
    "from sklearn.model_selection import train_test_split\n",
    "import numpy as np\n",
    "from library.sb_utils import save_file"
   ]
  },
  {
   "cell_type": "code",
   "execution_count": 2,
   "id": "410aedc2",
   "metadata": {},
   "outputs": [],
   "source": [
    "#loading the main dataframe\n",
    "df = pd.read_csv('C:/Users/Anthony/Springboard/CapstoneTwo/DataCSV/df.csv')\n",
    "#df.head()"
   ]
  },
  {
   "cell_type": "markdown",
   "id": "365bd58f",
   "metadata": {},
   "source": [
    "Looks like I forgot to add in an index so I know which row is which. Let's add that now."
   ]
  },
  {
   "cell_type": "code",
   "execution_count": 3,
   "id": "ebc881e2",
   "metadata": {},
   "outputs": [],
   "source": [
    "#ax = sns.scatterplot(x = 'first_sales', y = 'returning_sales', data = df, hue = 'type')"
   ]
  },
  {
   "cell_type": "markdown",
   "id": "d1fa9be0",
   "metadata": {},
   "source": [
    "This chart really doesn't give us a whole lot, except for a basic idea of the shape of our data. We can gather that any point sitting on the x axis is a person who ordered once and never ordered anything else again. Anything above the x axis is a customer who came back to order more. We can see a lot of the green points clustered above x axis, showing a lot of returning order value."
   ]
  },
  {
   "cell_type": "markdown",
   "id": "fbc1de15",
   "metadata": {},
   "source": [
    "Now I am going to split up my data, now trying to see this relationship through a better lense using a MinMaxScaler."
   ]
  },
  {
   "cell_type": "code",
   "execution_count": 4,
   "id": "552bc998",
   "metadata": {},
   "outputs": [],
   "source": [
    "model = MinMaxScaler()\n",
    "df['first_sales_scaled'] = model.fit_transform(df[['first_sales']])\n",
    "df['returning_sales_scaled'] = model.fit_transform(df[['returning_sales']])"
   ]
  },
  {
   "cell_type": "code",
   "execution_count": 5,
   "id": "7f2e77c5",
   "metadata": {},
   "outputs": [],
   "source": [
    "X = df[['type', 'first_sales_scaled']]\n",
    "y = df.returning_sales_scaled\n",
    "\n",
    "X = pd.get_dummies(X)\n",
    "\n",
    "X_train, X_test, y_train, y_test = train_test_split(X, y, test_size = .25, random_state = 246)"
   ]
  },
  {
   "cell_type": "code",
   "execution_count": 6,
   "id": "732b1236",
   "metadata": {},
   "outputs": [
    {
     "data": {
      "text/html": [
       "<div>\n",
       "<style scoped>\n",
       "    .dataframe tbody tr th:only-of-type {\n",
       "        vertical-align: middle;\n",
       "    }\n",
       "\n",
       "    .dataframe tbody tr th {\n",
       "        vertical-align: top;\n",
       "    }\n",
       "\n",
       "    .dataframe thead th {\n",
       "        text-align: right;\n",
       "    }\n",
       "</style>\n",
       "<table border=\"1\" class=\"dataframe\">\n",
       "  <thead>\n",
       "    <tr style=\"text-align: right;\">\n",
       "      <th></th>\n",
       "      <th>first_sales_scaled</th>\n",
       "      <th>type_l5</th>\n",
       "      <th>type_nsb</th>\n",
       "      <th>type_sb</th>\n",
       "    </tr>\n",
       "  </thead>\n",
       "  <tbody>\n",
       "    <tr>\n",
       "      <th>11447</th>\n",
       "      <td>0.174603</td>\n",
       "      <td>0</td>\n",
       "      <td>1</td>\n",
       "      <td>0</td>\n",
       "    </tr>\n",
       "    <tr>\n",
       "      <th>17331</th>\n",
       "      <td>0.156966</td>\n",
       "      <td>1</td>\n",
       "      <td>0</td>\n",
       "      <td>0</td>\n",
       "    </tr>\n",
       "    <tr>\n",
       "      <th>3273</th>\n",
       "      <td>0.227513</td>\n",
       "      <td>0</td>\n",
       "      <td>0</td>\n",
       "      <td>1</td>\n",
       "    </tr>\n",
       "    <tr>\n",
       "      <th>13937</th>\n",
       "      <td>0.174603</td>\n",
       "      <td>0</td>\n",
       "      <td>1</td>\n",
       "      <td>0</td>\n",
       "    </tr>\n",
       "    <tr>\n",
       "      <th>12952</th>\n",
       "      <td>0.135802</td>\n",
       "      <td>0</td>\n",
       "      <td>1</td>\n",
       "      <td>0</td>\n",
       "    </tr>\n",
       "    <tr>\n",
       "      <th>...</th>\n",
       "      <td>...</td>\n",
       "      <td>...</td>\n",
       "      <td>...</td>\n",
       "      <td>...</td>\n",
       "    </tr>\n",
       "    <tr>\n",
       "      <th>10798</th>\n",
       "      <td>0.292769</td>\n",
       "      <td>0</td>\n",
       "      <td>1</td>\n",
       "      <td>0</td>\n",
       "    </tr>\n",
       "    <tr>\n",
       "      <th>2112</th>\n",
       "      <td>0.227513</td>\n",
       "      <td>0</td>\n",
       "      <td>0</td>\n",
       "      <td>1</td>\n",
       "    </tr>\n",
       "    <tr>\n",
       "      <th>14569</th>\n",
       "      <td>0.135802</td>\n",
       "      <td>0</td>\n",
       "      <td>1</td>\n",
       "      <td>0</td>\n",
       "    </tr>\n",
       "    <tr>\n",
       "      <th>14494</th>\n",
       "      <td>0.115432</td>\n",
       "      <td>0</td>\n",
       "      <td>1</td>\n",
       "      <td>0</td>\n",
       "    </tr>\n",
       "    <tr>\n",
       "      <th>19364</th>\n",
       "      <td>0.156966</td>\n",
       "      <td>1</td>\n",
       "      <td>0</td>\n",
       "      <td>0</td>\n",
       "    </tr>\n",
       "  </tbody>\n",
       "</table>\n",
       "<p>15781 rows × 4 columns</p>\n",
       "</div>"
      ],
      "text/plain": [
       "       first_sales_scaled  type_l5  type_nsb  type_sb\n",
       "11447            0.174603        0         1        0\n",
       "17331            0.156966        1         0        0\n",
       "3273             0.227513        0         0        1\n",
       "13937            0.174603        0         1        0\n",
       "12952            0.135802        0         1        0\n",
       "...                   ...      ...       ...      ...\n",
       "10798            0.292769        0         1        0\n",
       "2112             0.227513        0         0        1\n",
       "14569            0.135802        0         1        0\n",
       "14494            0.115432        0         1        0\n",
       "19364            0.156966        1         0        0\n",
       "\n",
       "[15781 rows x 4 columns]"
      ]
     },
     "execution_count": 6,
     "metadata": {},
     "output_type": "execute_result"
    }
   ],
   "source": [
    "X_train"
   ]
  },
  {
   "cell_type": "code",
   "execution_count": 7,
   "id": "d1693e12",
   "metadata": {},
   "outputs": [
    {
     "data": {
      "text/plain": [
       "11447    0.050549\n",
       "17331    0.000000\n",
       "3273     0.000000\n",
       "13937    0.050549\n",
       "12952    0.000000\n",
       "           ...   \n",
       "10798    0.081185\n",
       "2112     0.000000\n",
       "14569    0.000000\n",
       "14494    0.049528\n",
       "19364    0.000000\n",
       "Name: returning_sales_scaled, Length: 15781, dtype: float64"
      ]
     },
     "execution_count": 7,
     "metadata": {},
     "output_type": "execute_result"
    }
   ],
   "source": [
    "y_train"
   ]
  },
  {
   "cell_type": "code",
   "execution_count": 8,
   "id": "f517cdef",
   "metadata": {},
   "outputs": [
    {
     "name": "stdout",
     "output_type": "stream",
     "text": [
      "A file already exists with this name.\n",
      "\n",
      "Do you want to overwrite? (Y/N)y\n",
      "Writing file.  \"C:/Users/Anthony/GitHub/Capstone-Two/Models\\model.pkl\"\n"
     ]
    },
    {
     "data": {
      "text/plain": [
       "(None,)"
      ]
     },
     "execution_count": 8,
     "metadata": {},
     "output_type": "execute_result"
    }
   ],
   "source": [
    "datapath = 'C:/Users/Anthony/GitHub/Capstone-Two/Models'\n",
    "save_file(model, 'model.pkl', datapath), "
   ]
  },
  {
   "cell_type": "code",
   "execution_count": 10,
   "id": "df4e5ecb",
   "metadata": {},
   "outputs": [
    {
     "name": "stdout",
     "output_type": "stream",
     "text": [
      "Writing file.  \"C:/Users/Anthony/GitHub/Capstone-Two/Data\\df_scaled.csv\"\n"
     ]
    }
   ],
   "source": [
    "datapath = 'C:/Users/Anthony/GitHub/Capstone-Two/Data'\n",
    "save_file(df, 'df_scaled.csv', datapath)"
   ]
  }
 ],
 "metadata": {
  "kernelspec": {
   "display_name": "Python 3 (ipykernel)",
   "language": "python",
   "name": "python3"
  },
  "language_info": {
   "codemirror_mode": {
    "name": "ipython",
    "version": 3
   },
   "file_extension": ".py",
   "mimetype": "text/x-python",
   "name": "python",
   "nbconvert_exporter": "python",
   "pygments_lexer": "ipython3",
   "version": "3.9.13"
  }
 },
 "nbformat": 4,
 "nbformat_minor": 5
}
