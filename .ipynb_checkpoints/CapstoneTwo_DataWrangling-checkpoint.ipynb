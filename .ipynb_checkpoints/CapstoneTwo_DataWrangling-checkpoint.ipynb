{
 "cells": [
  {
   "cell_type": "code",
   "execution_count": 1,
   "id": "725bacdb",
   "metadata": {},
   "outputs": [],
   "source": [
    "#IMPORTS#\n",
    "import pandas as pd\n",
    "import matplotlib.pyplot as plt\n",
    "import seaborn as sns\n",
    "import os\n",
    "\n",
    "from library.sb_utils import save_file"
   ]
  },
  {
   "cell_type": "code",
   "execution_count": 2,
   "id": "7efcfcc6",
   "metadata": {},
   "outputs": [],
   "source": [
    "#LOADING DATA#\n",
    "sales_data = pd.read_csv('C:/Users/Anthony/GitHub/Capstone-Two/Data/raw_data.csv')"
   ]
  },
  {
   "cell_type": "code",
   "execution_count": 3,
   "id": "30ca9a4a",
   "metadata": {},
   "outputs": [
    {
     "data": {
      "text/html": [
       "<div>\n",
       "<style scoped>\n",
       "    .dataframe tbody tr th:only-of-type {\n",
       "        vertical-align: middle;\n",
       "    }\n",
       "\n",
       "    .dataframe tbody tr th {\n",
       "        vertical-align: top;\n",
       "    }\n",
       "\n",
       "    .dataframe thead th {\n",
       "        text-align: right;\n",
       "    }\n",
       "</style>\n",
       "<table border=\"1\" class=\"dataframe\">\n",
       "  <thead>\n",
       "    <tr style=\"text-align: right;\">\n",
       "      <th></th>\n",
       "      <th>count</th>\n",
       "      <th>%</th>\n",
       "    </tr>\n",
       "  </thead>\n",
       "  <tbody>\n",
       "    <tr>\n",
       "      <th>month</th>\n",
       "      <td>0</td>\n",
       "      <td>0.0</td>\n",
       "    </tr>\n",
       "    <tr>\n",
       "      <th>customer_type</th>\n",
       "      <td>0</td>\n",
       "      <td>0.0</td>\n",
       "    </tr>\n",
       "    <tr>\n",
       "      <th>order_id</th>\n",
       "      <td>0</td>\n",
       "      <td>0.0</td>\n",
       "    </tr>\n",
       "    <tr>\n",
       "      <th>customer_id</th>\n",
       "      <td>0</td>\n",
       "      <td>0.0</td>\n",
       "    </tr>\n",
       "    <tr>\n",
       "      <th>customer_name</th>\n",
       "      <td>0</td>\n",
       "      <td>0.0</td>\n",
       "    </tr>\n",
       "    <tr>\n",
       "      <th>product_id</th>\n",
       "      <td>0</td>\n",
       "      <td>0.0</td>\n",
       "    </tr>\n",
       "    <tr>\n",
       "      <th>product_price</th>\n",
       "      <td>0</td>\n",
       "      <td>0.0</td>\n",
       "    </tr>\n",
       "    <tr>\n",
       "      <th>ordered_item_quantity</th>\n",
       "      <td>0</td>\n",
       "      <td>0.0</td>\n",
       "    </tr>\n",
       "    <tr>\n",
       "      <th>total_sales</th>\n",
       "      <td>0</td>\n",
       "      <td>0.0</td>\n",
       "    </tr>\n",
       "  </tbody>\n",
       "</table>\n",
       "</div>"
      ],
      "text/plain": [
       "                       count    %\n",
       "month                      0  0.0\n",
       "customer_type              0  0.0\n",
       "order_id                   0  0.0\n",
       "customer_id                0  0.0\n",
       "customer_name              0  0.0\n",
       "product_id                 0  0.0\n",
       "product_price              0  0.0\n",
       "ordered_item_quantity      0  0.0\n",
       "total_sales                0  0.0"
      ]
     },
     "execution_count": 3,
     "metadata": {},
     "output_type": "execute_result"
    }
   ],
   "source": [
    "#ENSURING THERE ARE NO EMPTY CELLS#\n",
    "missing = pd.concat([sales_data.isnull().sum(), 100 * sales_data.isnull().mean()], axis=1)\n",
    "missing.columns=['count', '%']\n",
    "missing.sort_values(by='count', ascending = False)"
   ]
  },
  {
   "cell_type": "code",
   "execution_count": 4,
   "id": "2f7ae352",
   "metadata": {},
   "outputs": [
    {
     "data": {
      "text/plain": [
       "Index(['month', 'customer_type', 'order_id', 'customer_id', 'customer_name',\n",
       "       'product_id', 'product_price', 'ordered_item_quantity', 'total_sales'],\n",
       "      dtype='object')"
      ]
     },
     "execution_count": 4,
     "metadata": {},
     "output_type": "execute_result"
    }
   ],
   "source": [
    "sales_data.columns"
   ]
  },
  {
   "cell_type": "code",
   "execution_count": 5,
   "id": "dd0815c4",
   "metadata": {
    "scrolled": true
   },
   "outputs": [],
   "source": [
    "#DROP CUSTOMER NAME#\n",
    "sales_data = sales_data.drop('customer_name', axis=1)"
   ]
  },
  {
   "cell_type": "code",
   "execution_count": 6,
   "id": "44697ac1",
   "metadata": {},
   "outputs": [
    {
     "data": {
      "text/plain": [
       "(15691, 8)"
      ]
     },
     "execution_count": 6,
     "metadata": {},
     "output_type": "execute_result"
    }
   ],
   "source": [
    "sales_data.shape"
   ]
  },
  {
   "cell_type": "code",
   "execution_count": 7,
   "id": "36bd8ebf",
   "metadata": {},
   "outputs": [
    {
     "data": {
      "text/plain": [
       "array([   9503187985, 5780581712024, 5489893605528, 3554956247133,\n",
       "       3544999428189,             0, 6178006302872, 6984424063128],\n",
       "      dtype=int64)"
      ]
     },
     "execution_count": 7,
     "metadata": {},
     "output_type": "execute_result"
    }
   ],
   "source": [
    "#CHANGING PRODUCT ID TO PRODUCT NAME\n",
    "sales_data['product_id'].unique()"
   ]
  },
  {
   "cell_type": "code",
   "execution_count": 8,
   "id": "d6b5416d",
   "metadata": {},
   "outputs": [],
   "source": [
    "sales_data['product_id'] = sales_data['product_id'].replace([6984424063128, 5780581712024, 3544999428189, 5489893605528, 9503187985, 3554956247133], \n",
    "                                 ['Starter Bundle with Coaching', 'Starter Bundle', \"Lugol's 5%\", 'HaloDetox', 'Thiodine', 'ThyroConvert'])"
   ]
  },
  {
   "cell_type": "code",
   "execution_count": 9,
   "id": "a19bc66c",
   "metadata": {},
   "outputs": [
    {
     "data": {
      "text/plain": [
       "Index(['month', 'customer_type', 'order_id', 'customer_id', 'product_name',\n",
       "       'product_price', 'ordered_item_quantity', 'total_sales'],\n",
       "      dtype='object')"
      ]
     },
     "execution_count": 9,
     "metadata": {},
     "output_type": "execute_result"
    }
   ],
   "source": [
    "sales_data.rename(columns = {'product_id': 'product_name'}, inplace = True)\n",
    "sales_data.columns"
   ]
  },
  {
   "cell_type": "code",
   "execution_count": 10,
   "id": "49dcb154",
   "metadata": {},
   "outputs": [
    {
     "data": {
      "text/plain": [
       "(15691, 8)"
      ]
     },
     "execution_count": 10,
     "metadata": {},
     "output_type": "execute_result"
    }
   ],
   "source": [
    "sales_data.shape"
   ]
  },
  {
   "cell_type": "code",
   "execution_count": 11,
   "id": "fcec6038",
   "metadata": {},
   "outputs": [
    {
     "data": {
      "text/plain": [
       "array(['Thiodine', 'Starter Bundle', 'HaloDetox', 'ThyroConvert',\n",
       "       \"Lugol's 5%\", 'Starter Bundle with Coaching'], dtype=object)"
      ]
     },
     "execution_count": 11,
     "metadata": {},
     "output_type": "execute_result"
    }
   ],
   "source": [
    "sales_data = sales_data[sales_data['product_name'].isin(\n",
    "    ['Starter Bundle with Coaching', 'Starter Bundle', \"Lugol's 5%\", 'HaloDetox', 'Thiodine', 'ThyroConvert'])]\n",
    "sales_data['product_name'].unique()"
   ]
  },
  {
   "cell_type": "code",
   "execution_count": 12,
   "id": "fa82383b",
   "metadata": {},
   "outputs": [
    {
     "data": {
      "text/plain": [
       "(14956, 8)"
      ]
     },
     "execution_count": 12,
     "metadata": {},
     "output_type": "execute_result"
    }
   ],
   "source": [
    "sales_data.shape"
   ]
  },
  {
   "cell_type": "code",
   "execution_count": 13,
   "id": "0d01fa0c",
   "metadata": {},
   "outputs": [
    {
     "data": {
      "text/plain": [
       "dtype('O')"
      ]
     },
     "execution_count": 13,
     "metadata": {},
     "output_type": "execute_result"
    }
   ],
   "source": [
    "#TURNING MONTH COLUMN DTYPE INTO DATETIME#\n",
    "sales_data['month'].dtype"
   ]
  },
  {
   "cell_type": "code",
   "execution_count": 14,
   "id": "37952b01",
   "metadata": {},
   "outputs": [],
   "source": [
    "sales_data['month'] =  pd.to_datetime(sales_data['month'], format='%Y-%m')"
   ]
  },
  {
   "cell_type": "code",
   "execution_count": 15,
   "id": "b38644a5",
   "metadata": {},
   "outputs": [
    {
     "data": {
      "text/plain": [
       "dtype('<M8[ns]')"
      ]
     },
     "execution_count": 15,
     "metadata": {},
     "output_type": "execute_result"
    }
   ],
   "source": [
    "sales_data['month'].dtype"
   ]
  },
  {
   "cell_type": "code",
   "execution_count": 16,
   "id": "6bab6a6d",
   "metadata": {
    "scrolled": true
   },
   "outputs": [
    {
     "data": {
      "text/plain": [
       "array(['Returning', 'First-time'], dtype=object)"
      ]
     },
     "execution_count": 16,
     "metadata": {},
     "output_type": "execute_result"
    }
   ],
   "source": [
    "#MAKING DATAFRAME OF ONLY CUSTOMERS FIRST ORDERS#\n",
    "sales_data['customer_type'].unique()"
   ]
  },
  {
   "cell_type": "code",
   "execution_count": 17,
   "id": "14580eb1",
   "metadata": {},
   "outputs": [],
   "source": [
    "first_orders = sales_data[sales_data['customer_type'] == 'First-time']"
   ]
  },
  {
   "cell_type": "code",
   "execution_count": 18,
   "id": "3a470499",
   "metadata": {},
   "outputs": [
    {
     "data": {
      "text/plain": [
       "array(['First-time'], dtype=object)"
      ]
     },
     "execution_count": 18,
     "metadata": {},
     "output_type": "execute_result"
    }
   ],
   "source": [
    "first_orders['customer_type'].unique()"
   ]
  },
  {
   "cell_type": "code",
   "execution_count": 19,
   "id": "8067ae86",
   "metadata": {},
   "outputs": [
    {
     "data": {
      "text/plain": [
       "(12399, 8)"
      ]
     },
     "execution_count": 19,
     "metadata": {},
     "output_type": "execute_result"
    }
   ],
   "source": [
    "first_orders.shape"
   ]
  },
  {
   "cell_type": "code",
   "execution_count": 20,
   "id": "6fe161af",
   "metadata": {},
   "outputs": [],
   "source": [
    "#MAKING DATAFRAME OF ONLY RETURNING CUSTOMER'S ORDERS#\n",
    "returning_orders = sales_data[sales_data['customer_type'] == 'Returning']"
   ]
  },
  {
   "cell_type": "code",
   "execution_count": 21,
   "id": "f250dec0",
   "metadata": {},
   "outputs": [
    {
     "data": {
      "text/plain": [
       "array(['Returning'], dtype=object)"
      ]
     },
     "execution_count": 21,
     "metadata": {},
     "output_type": "execute_result"
    }
   ],
   "source": [
    "returning_orders['customer_type'].unique()"
   ]
  },
  {
   "cell_type": "code",
   "execution_count": 22,
   "id": "282a6bc0",
   "metadata": {},
   "outputs": [
    {
     "data": {
      "text/plain": [
       "(2557, 8)"
      ]
     },
     "execution_count": 22,
     "metadata": {},
     "output_type": "execute_result"
    }
   ],
   "source": [
    "returning_orders.shape"
   ]
  },
  {
   "cell_type": "code",
   "execution_count": 23,
   "id": "6b43bc2c",
   "metadata": {},
   "outputs": [
    {
     "data": {
      "text/plain": [
       "11712"
      ]
     },
     "execution_count": 23,
     "metadata": {},
     "output_type": "execute_result"
    }
   ],
   "source": [
    "#THERE SHOULD BE THE SAME NUMBER OF FIRST ORDER CUSTOMER IDs AND ORDER IDs#\n",
    "len(first_orders['order_id'].unique())"
   ]
  },
  {
   "cell_type": "code",
   "execution_count": 24,
   "id": "edca52d9",
   "metadata": {},
   "outputs": [
    {
     "data": {
      "text/plain": [
       "11712"
      ]
     },
     "execution_count": 24,
     "metadata": {},
     "output_type": "execute_result"
    }
   ],
   "source": [
    "#CONFIRMED#\n",
    "len(first_orders['customer_id'].unique())"
   ]
  },
  {
   "cell_type": "code",
   "execution_count": 25,
   "id": "742bcd22",
   "metadata": {
    "scrolled": true
   },
   "outputs": [
    {
     "data": {
      "text/plain": [
       "(1260, 8)"
      ]
     },
     "execution_count": 25,
     "metadata": {},
     "output_type": "execute_result"
    }
   ],
   "source": [
    "#MAKING DATAFRAME OF ONLY PEOPLE WHO ENDING UP AS RETURNING CUSTOMERS#\n",
    "first_orders_returned = first_orders[first_orders['customer_id'].isin(returning_orders['customer_id'])]\n",
    "first_orders_returned.shape"
   ]
  },
  {
   "cell_type": "code",
   "execution_count": 26,
   "id": "60ee4e70",
   "metadata": {},
   "outputs": [
    {
     "data": {
      "text/plain": [
       "1118"
      ]
     },
     "execution_count": 26,
     "metadata": {},
     "output_type": "execute_result"
    }
   ],
   "source": [
    "#INVERSE OF PREVIOUS STEP TO MAKE SURE EACH IN RETURNING ORDERS DATEFRAME LINES UP WITH A FIRST ORDER#\n",
    "returning_orders = returning_orders[returning_orders['customer_id'].isin(first_orders_returned['customer_id'])]\n",
    "len(returning_orders['customer_id'].unique())"
   ]
  },
  {
   "cell_type": "code",
   "execution_count": 27,
   "id": "60ce9ba8",
   "metadata": {},
   "outputs": [
    {
     "data": {
      "text/plain": [
       "(1915, 8)"
      ]
     },
     "execution_count": 27,
     "metadata": {},
     "output_type": "execute_result"
    }
   ],
   "source": [
    "returning_orders.shape"
   ]
  },
  {
   "cell_type": "code",
   "execution_count": 28,
   "id": "147c9edb",
   "metadata": {},
   "outputs": [
    {
     "data": {
      "text/plain": [
       "(3175, 8)"
      ]
     },
     "execution_count": 28,
     "metadata": {},
     "output_type": "execute_result"
    }
   ],
   "source": [
    "#MAKING A DATAFRAME OF EVERY ORDER A PERSON MADE WHO MADE MORE THAN ONE ORDER IN THIS TIME#\n",
    "returning_orders_merged = pd.concat([first_orders_returned, returning_orders])\n",
    "returning_orders_merged.shape"
   ]
  },
  {
   "cell_type": "code",
   "execution_count": 29,
   "id": "b8649816",
   "metadata": {},
   "outputs": [
    {
     "data": {
      "text/plain": [
       "(11139, 8)"
      ]
     },
     "execution_count": 29,
     "metadata": {},
     "output_type": "execute_result"
    }
   ],
   "source": [
    "#MAKING A DATAFRAME FOR CUSTOMERS WHO ONLY MADE THEIR FIRST ORDER IN THIS TIME FRAME#\n",
    "one_time_customers = first_orders[~first_orders['customer_id'].isin(returning_orders['customer_id'])]\n",
    "one_time_customers.shape"
   ]
  },
  {
   "cell_type": "code",
   "execution_count": 30,
   "id": "576785ea",
   "metadata": {},
   "outputs": [
    {
     "name": "stdout",
     "output_type": "stream",
     "text": [
      "Writing file.  \"C:/Users/Anthony/GitHub/Capstone-Two/Data\\one_time_customers.csv\"\n"
     ]
    }
   ],
   "source": [
    "datapath = 'C:/Users/Anthony/GitHub/Capstone-Two/Data'\n",
    "save_file(one_time_customers, 'one_time_customers.csv', datapath)"
   ]
  },
  {
   "cell_type": "code",
   "execution_count": 31,
   "id": "da9c3ba7",
   "metadata": {},
   "outputs": [
    {
     "name": "stdout",
     "output_type": "stream",
     "text": [
      "Writing file.  \"C:/Users/Anthony/GitHub/Capstone-Two/Data\\first_orders_returned.csv\"\n"
     ]
    }
   ],
   "source": [
    "save_file(first_orders_returned, 'first_orders_returned.csv', datapath)"
   ]
  },
  {
   "cell_type": "code",
   "execution_count": 32,
   "id": "7a53c014",
   "metadata": {},
   "outputs": [
    {
     "name": "stdout",
     "output_type": "stream",
     "text": [
      "Writing file.  \"C:/Users/Anthony/GitHub/Capstone-Two/Data\\returning_orders.csv\"\n"
     ]
    }
   ],
   "source": [
    "save_file(returning_orders, 'returning_orders.csv', datapath)"
   ]
  },
  {
   "cell_type": "code",
   "execution_count": 33,
   "id": "51baeaca",
   "metadata": {},
   "outputs": [
    {
     "name": "stdout",
     "output_type": "stream",
     "text": [
      "Writing file.  \"C:/Users/Anthony/GitHub/Capstone-Two/Data\\returning_orders_merged.csv\"\n"
     ]
    }
   ],
   "source": [
    "save_file(returning_orders_merged, 'returning_orders_merged.csv', datapath)"
   ]
  },
  {
   "cell_type": "markdown",
   "id": "def1fe3c",
   "metadata": {},
   "source": [
    "There are now 4 DataFrames:\n",
    "\n",
    "--one_time_customers: customers who bought one item from the store and never returned\n",
    "\n",
    "--first_orders_returned: customers who bought one item and ended up buying something again\n",
    "\n",
    "--returning_orders: customers who had already made an order on the store previously\n",
    "\n",
    "--returning_orders_merged: all of the orders from customers who made more than one purchase"
   ]
  },
  {
   "cell_type": "markdown",
   "id": "26481862",
   "metadata": {},
   "source": [
    "Going into this stage, I already knew the data was going to be pretty clean since I got the data from Google Analytics. My goal was to organize the data and make sure I had what I wanted in 4 easy-to-access DataFrames. Initially, I was presented with over 15000 rows of data with 9 columns. Once I knew that we didn't have any empty cells, I decided that the customer name column was not useful so I dropped that immediately. Next, I changed the product id column to product name and turned all of the numbers into an item name. I also dropped any rows that had a product name not in the list I specified, so any mistakes there were removed. After that, I used the pandas 'to_datetime' method to change the month column from an object to a datetime object to I could then sort the data by data in any future step. Initially at this point I was going to drop any duplicate order id's, but then I realized that the DataFrame has to separate the data into 2 rows if a person ordered two different products in their order. Finally, I created the four datafreames specified above to prepare myself for the next step. I did this because this isn't the beginning or the end of our data, so I was to make sure that I'm not counting returning customers when I can't even tell what their first order was."
   ]
  }
 ],
 "metadata": {
  "kernelspec": {
   "display_name": "Python 3 (ipykernel)",
   "language": "python",
   "name": "python3"
  },
  "language_info": {
   "codemirror_mode": {
    "name": "ipython",
    "version": 3
   },
   "file_extension": ".py",
   "mimetype": "text/x-python",
   "name": "python",
   "nbconvert_exporter": "python",
   "pygments_lexer": "ipython3",
   "version": "3.9.13"
  }
 },
 "nbformat": 4,
 "nbformat_minor": 5
}
