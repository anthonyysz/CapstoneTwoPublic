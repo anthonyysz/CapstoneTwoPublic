{
 "cells": [
  {
   "cell_type": "code",
   "execution_count": 1,
   "id": "a9e2aefc",
   "metadata": {},
   "outputs": [],
   "source": [
    "#IMPORTS#\n",
    "import pandas as pd\n",
    "import matplotlib.pyplot as plt\n",
    "import seaborn as sns\n",
    "from scipy import stats\n",
    "import random\n",
    "import os\n",
    "\n",
    "from library.sb_utils import save_file"
   ]
  },
  {
   "cell_type": "code",
   "execution_count": 2,
   "id": "64fa7aa2",
   "metadata": {},
   "outputs": [],
   "source": [
    "#LOADING DATA#\n",
    "first_orders_returned = pd.read_csv('C:/Users/Anthony/GitHub/Capstone-Two/Data/first_orders_returned.csv')\n",
    "one_time_customers = pd.read_csv('C:/Users/Anthony/GitHub/Capstone-Two/Data/one_time_customers.csv')\n",
    "returning_orders = pd.read_csv('C:/Users/Anthony/GitHub/Capstone-Two/Data/returning_orders.csv')\n",
    "returning_orders_merged = pd.read_csv('C:/Users/Anthony/GitHub/Capstone-Two/Data/returning_orders_merged.csv')"
   ]
  },
  {
   "cell_type": "code",
   "execution_count": 3,
   "id": "c1fa8e1b",
   "metadata": {},
   "outputs": [],
   "source": [
    "#ID ALSO LIKE TO ADD A DATA SET AT THIS POINT THAT HAS ALL OF THE FIRST ORDERS OF ALL CUSTOMERS\n",
    "first_orders = pd.concat([first_orders_returned, one_time_customers])"
   ]
  },
  {
   "cell_type": "code",
   "execution_count": 4,
   "id": "c0f98698",
   "metadata": {},
   "outputs": [
    {
     "name": "stdout",
     "output_type": "stream",
     "text": [
      "Index(['customer_type', 'customer_id', 'product_name', 'product_price',\n",
      "       'ordered_item_quantity', 'total_sales'],\n",
      "      dtype='object') Index(['customer_type', 'customer_id', 'product_name', 'product_price',\n",
      "       'ordered_item_quantity', 'total_sales'],\n",
      "      dtype='object') Index(['customer_type', 'customer_id', 'product_name', 'product_price',\n",
      "       'ordered_item_quantity', 'total_sales'],\n",
      "      dtype='object') Index(['customer_type', 'customer_id', 'product_name', 'product_price',\n",
      "       'ordered_item_quantity', 'total_sales'],\n",
      "      dtype='object') Index(['customer_type', 'customer_id', 'product_name', 'product_price',\n",
      "       'ordered_item_quantity', 'total_sales'],\n",
      "      dtype='object')\n"
     ]
    }
   ],
   "source": [
    "#AT THIS POINT I NO LONGER NEED A COUPLE COLUMNS:\n",
    "#I NO LONGER NEED THE MONTH COLUMN, SINCE I HAVE ALREADY KNOW WHICH ORDERS WERE PLACED FIRST\n",
    "#I NO LONGER NEED THE ORDER ID COLUMN SINCE I HAD MADE USE OF IT DURING THE DATA WRANGLING PHASE\n",
    "first_orders_returned = first_orders_returned.drop(['month', 'order_id'], axis=1)\n",
    "one_time_customers = one_time_customers.drop(['month', 'order_id'], axis=1)\n",
    "returning_orders = returning_orders.drop(['month', 'order_id'], axis=1)\n",
    "returning_orders_merged = returning_orders_merged.drop(['month', 'order_id'], axis=1)\n",
    "first_orders = first_orders.drop(['month', 'order_id'], axis=1)\n",
    "print(first_orders_returned.columns, one_time_customers.columns, returning_orders.columns, returning_orders_merged.columns, first_orders.columns)"
   ]
  },
  {
   "cell_type": "code",
   "execution_count": 5,
   "id": "74a3564f",
   "metadata": {},
   "outputs": [
    {
     "data": {
      "text/plain": [
       "product_name\n",
       "Starter Bundle    33.763780\n",
       "Lugol's 5%        29.007874\n",
       "ThyroConvert      21.700787\n",
       "Thiodine           9.480315\n",
       "HaloDetox          6.015748\n",
       "Name: percentage, dtype: float64"
      ]
     },
     "execution_count": 5,
     "metadata": {},
     "output_type": "execute_result"
    }
   ],
   "source": [
    "#HERE I WANT TO SEE OF ALL THE ORDERS OF PEOPLE WHO CAME BACK IN THEIR LIFETIME, HOW MANY WERE EACH PRODUCT\n",
    "count_rom = returning_orders_merged[['product_name', 'customer_type']].groupby('product_name').count().sort_values('customer_type', ascending = False)\n",
    "count_rom['percentage'] = (count_rom['customer_type'] / count_rom['customer_type'].sum()) * 100\n",
    "count_rom.rename(columns = {'customer_type': 'count'}, inplace = True)\n",
    "count_rom['percentage'].head()"
   ]
  },
  {
   "cell_type": "markdown",
   "id": "fc96193e",
   "metadata": {},
   "source": [
    "Here, we can tell that out of all of the people who ordered more than one item in their lifetime with our company, about 1/3 of those total orders were the Starter Bundle. It is also notable in this circumstance that the Starter Bundle comes with ThyroConvert, Thiodine, and HaloDetox in it. "
   ]
  },
  {
   "cell_type": "code",
   "execution_count": 6,
   "id": "b5fd2ae8",
   "metadata": {},
   "outputs": [
    {
     "data": {
      "text/plain": [
       "product_name\n",
       "Starter Bundle    49.047619\n",
       "Lugol's 5%        31.825397\n",
       "Thiodine           8.015873\n",
       "ThyroConvert       7.857143\n",
       "HaloDetox          3.253968\n",
       "Name: percentage, dtype: float64"
      ]
     },
     "execution_count": 6,
     "metadata": {},
     "output_type": "execute_result"
    }
   ],
   "source": [
    "#NOW I WANT TO SEE OF THE PEOPLE WHO CAME BACK, WHAT WAS THEIR FIRST PRODUCT\n",
    "count_for = first_orders_returned[['product_name', 'customer_type']].groupby('product_name').count().sort_values('customer_type', ascending = False)\n",
    "count_for['percentage'] = (count_for['customer_type'] / count_for['customer_type'].sum()) * 100\n",
    "count_for.rename(columns = {'customer_type': 'count'}, inplace = True)\n",
    "count_for['percentage'].head(6)"
   ]
  },
  {
   "cell_type": "code",
   "execution_count": 7,
   "id": "7d06df65",
   "metadata": {},
   "outputs": [
    {
     "data": {
      "text/plain": [
       "product_name\n",
       "Starter Bundle                  72.394290\n",
       "Lugol's 5%                      20.010773\n",
       "ThyroConvert                     3.519167\n",
       "Thiodine                         2.675285\n",
       "HaloDetox                        1.373552\n",
       "Starter Bundle with Coaching     0.026932\n",
       "Name: percentage, dtype: float64"
      ]
     },
     "execution_count": 7,
     "metadata": {},
     "output_type": "execute_result"
    }
   ],
   "source": [
    "#THIS TIME OF THE PEOPLE WHO WERE ONE AND DONE\n",
    "count_otc = one_time_customers[['product_name', 'customer_type']].groupby('product_name').count().sort_values('customer_type', ascending = False)\n",
    "count_otc['percentage'] = (count_otc['customer_type'] / count_otc['customer_type'].sum()) * 100\n",
    "count_otc.rename(columns = {'customer_type': 'count'}, inplace = True)\n",
    "count_otc['percentage'].head(6)\n"
   ]
  },
  {
   "cell_type": "code",
   "execution_count": 8,
   "id": "d50ce3da",
   "metadata": {},
   "outputs": [
    {
     "data": {
      "text/plain": [
       "product_name\n",
       "Starter Bundle                  70.021776\n",
       "Lugol's 5%                      21.211388\n",
       "ThyroConvert                     3.959997\n",
       "Thiodine                         3.218001\n",
       "HaloDetox                        1.564642\n",
       "Starter Bundle with Coaching     0.024195\n",
       "Name: percentage, dtype: float64"
      ]
     },
     "execution_count": 8,
     "metadata": {},
     "output_type": "execute_result"
    }
   ],
   "source": [
    "#AND NOW IN TOTAL FOR ALL FIRST TIME CUSTOMERS\n",
    "count_fo = first_orders[['product_name', 'customer_type']].groupby('product_name').count().sort_values('customer_type', ascending = False)\n",
    "count_fo['percentage'] = (count_fo['customer_type'] / count_fo['customer_type'].sum()) * 100\n",
    "count_fo.rename(columns = {'customer_type': 'count'}, inplace = True)\n",
    "count_fo['percentage'].head(6)"
   ]
  },
  {
   "cell_type": "markdown",
   "id": "54a27340",
   "metadata": {},
   "source": [
    "Here, we can see that the overall first order numbers are very similar to the one time customer numbers. Around 70% of people who only come to the store once buy the Starter Bundle, while for customers who did end up returning to the store that number is closer to 50%."
   ]
  },
  {
   "cell_type": "code",
   "execution_count": 9,
   "id": "c815e9cf",
   "metadata": {},
   "outputs": [
    {
     "data": {
      "text/plain": [
       "product_name\n",
       "ThyroConvert                    30.809399\n",
       "Lugol's 5%                      27.154047\n",
       "Starter Bundle                  23.707572\n",
       "Thiodine                        10.443864\n",
       "HaloDetox                        7.832898\n",
       "Starter Bundle with Coaching     0.052219\n",
       "Name: percentage, dtype: float64"
      ]
     },
     "execution_count": 9,
     "metadata": {},
     "output_type": "execute_result"
    }
   ],
   "source": [
    "#HERE ID LIKE TO SEE WHAT PEOPLE ARE GETTING IN THEIR RETURNING ORDERS\n",
    "count_ro = returning_orders[['product_name', 'customer_type']].groupby('product_name').count().sort_values('customer_type', ascending = False)\n",
    "count_ro['percentage'] = (count_ro['customer_type'] / count_ro['customer_type'].sum()) * 100\n",
    "count_ro.rename(columns = {'customer_type': 'count'}, inplace = True)\n",
    "count_ro['percentage'].head(6)"
   ]
  },
  {
   "cell_type": "markdown",
   "id": "2e6b69cf",
   "metadata": {},
   "source": [
    "This is congruent with what I'd expected to see. Since ThyroConvert comes with 60 servings, and Thiodine and HaloDetox come with 90 and 80 servings respectively, it wouldn't be shocking to see someone refilling their ThyroConvert more often."
   ]
  },
  {
   "cell_type": "markdown",
   "id": "12874f97",
   "metadata": {},
   "source": [
    "Now, I'd like to see how often a person would buy the Starter Bundle, and then come back for the ThyroConvert refill.\n",
    "\n",
    "To do so, I will create a DataFrame called f_sb_temp, which will contain all orders where a person bought the Starter Bundle as their first product and ended up returning to the store, as well as what they bought in their second order and potentially beyond."
   ]
  },
  {
   "cell_type": "code",
   "execution_count": 10,
   "id": "1fc8c808",
   "metadata": {},
   "outputs": [
    {
     "data": {
      "text/plain": [
       "(1545, 6)"
      ]
     },
     "execution_count": 10,
     "metadata": {},
     "output_type": "execute_result"
    }
   ],
   "source": [
    "f_sb_temp = pd.concat([first_orders_returned[first_orders_returned['product_name'] == 'Starter Bundle'], returning_orders[returning_orders['customer_id'].isin(first_orders_returned[first_orders_returned['product_name'] == 'Starter Bundle']['customer_id'])]])\n",
    "f_sb_temp.shape"
   ]
  },
  {
   "cell_type": "code",
   "execution_count": 11,
   "id": "56ebf11d",
   "metadata": {},
   "outputs": [
    {
     "name": "stdout",
     "output_type": "stream",
     "text": [
      "product_name\n",
      "ThyroConvert                    40.453074\n",
      "Starter Bundle                  31.499461\n",
      "Lugol's 5%                      14.670982\n",
      "HaloDetox                        6.796117\n",
      "Thiodine                         6.472492\n",
      "Starter Bundle with Coaching     0.107875\n",
      "Name: customer_type, dtype: float64\n"
     ]
    }
   ],
   "source": [
    "print((f_sb_temp[f_sb_temp['customer_type'] == 'Returning'].groupby('product_name').count().sort_values('customer_type', ascending = False) / f_sb_temp[f_sb_temp['customer_type'] == 'Returning'].groupby('product_name').count().sum()*100)['customer_type'])"
   ]
  },
  {
   "cell_type": "markdown",
   "id": "7139d817",
   "metadata": {},
   "source": [
    "It's interesting to see here that a significant amount of people who originally purchased the Starter Bundle, which does not include the Lugol's 5%, purchased the Lugol's 5% when coming back. At the same time, however, a lot of people came back to get a refill on the ThyroConvert as expected. I'm also surprised by the amount of people who didnt refill their HaloDetox and Thiodine, and instead went and bought another Starter Bundle."
   ]
  },
  {
   "cell_type": "code",
   "execution_count": 12,
   "id": "aa6eab9c",
   "metadata": {},
   "outputs": [
    {
     "data": {
      "text/plain": [
       "(1643, 6)"
      ]
     },
     "execution_count": 12,
     "metadata": {},
     "output_type": "execute_result"
    }
   ],
   "source": [
    "#FIRST, I WILL NEED ANOTHER DATAFRAME CALLED F_NSB TO INDICATE PEOPLE WHOSE FIRST ORDERS WERE NOT THE STARTER BUNDLE\n",
    "f_nsb_temp = pd.concat([first_orders_returned[first_orders_returned['product_name'] != 'Starter Bundle'], returning_orders[returning_orders['customer_id'].isin(first_orders_returned[first_orders_returned['product_name'] != 'Starter Bundle']['customer_id'])]])\n",
    "f_nsb_temp.shape"
   ]
  },
  {
   "cell_type": "code",
   "execution_count": 13,
   "id": "6e6f6a91",
   "metadata": {},
   "outputs": [
    {
     "name": "stdout",
     "output_type": "stream",
     "text": [
      "product_name\n",
      "Lugol's 5%        38.361638\n",
      "ThyroConvert      22.077922\n",
      "Starter Bundle    16.483516\n",
      "Thiodine          14.285714\n",
      "HaloDetox          8.791209\n",
      "Name: customer_type, dtype: float64\n"
     ]
    }
   ],
   "source": [
    "print((f_nsb_temp[f_nsb_temp['customer_type'] == 'Returning'].groupby('product_name').count().sort_values('customer_type', ascending = False) / f_nsb_temp[f_nsb_temp['customer_type'] == 'Returning'].groupby('product_name').count().sum()*100)['customer_type'])"
   ]
  },
  {
   "cell_type": "markdown",
   "id": "d4b1bbf7",
   "metadata": {},
   "source": [
    "Here, we have a more even distribution across the 5 products, with surprisingly a higher rate of people purchasing the Thiodine and HaloDetox here than in this first DataFrame."
   ]
  },
  {
   "cell_type": "markdown",
   "id": "75ba44d7",
   "metadata": {},
   "source": [
    "Now I'd like to do the same thing, except concatenating the first_orders and returning_orders DataFrames together so I can use all of the Data to find results"
   ]
  },
  {
   "cell_type": "code",
   "execution_count": 14,
   "id": "d8f3cd84",
   "metadata": {},
   "outputs": [],
   "source": [
    "f_sb = pd.concat([first_orders[first_orders['product_name'] == 'Starter Bundle'], returning_orders[returning_orders['customer_id'].isin(first_orders[first_orders['product_name'] == 'Starter Bundle']['customer_id'])]])\n",
    "f_nsb = pd.concat([first_orders[first_orders['product_name'] != 'Starter Bundle'], returning_orders[returning_orders['customer_id'].isin(first_orders[first_orders['product_name'] != 'Starter Bundle']['customer_id'])]])"
   ]
  },
  {
   "cell_type": "markdown",
   "id": "a46c6d47",
   "metadata": {},
   "source": [
    "Now, using these two DataFrames, I will see which generated total sales more efficiently: buying the Starter Bundle first, or buying a product that is not the Starter Bundle first. I will do this by grouping by customer id, getting the sum of sales, and finding the mean."
   ]
  },
  {
   "cell_type": "code",
   "execution_count": 15,
   "id": "2ac5add5",
   "metadata": {},
   "outputs": [],
   "source": [
    "#CALCULATING AVERAGE TOTAL SALES NUMBERS FOR STARTER BUNDLE / NOT STARTER BUNDLE\n",
    "fsb_mean = float(round(f_sb[['customer_id', 'total_sales']].groupby('customer_id').agg('sum').sort_values('total_sales', ascending = False).mean(), 2))"
   ]
  },
  {
   "cell_type": "code",
   "execution_count": 16,
   "id": "9a9fa586",
   "metadata": {},
   "outputs": [],
   "source": [
    "fnsb_mean = float(round(f_nsb[['customer_id', 'total_sales']].groupby('customer_id').agg('sum').sort_values('total_sales', ascending = False).mean(), 2))"
   ]
  },
  {
   "cell_type": "code",
   "execution_count": 17,
   "id": "722a230e",
   "metadata": {},
   "outputs": [
    {
     "name": "stdout",
     "output_type": "stream",
     "text": [
      "The average lifetime value for a person who orders the Starter Bundle first is $REDACTED, and for a person who doesn't order the Starter Bundle first, it's $REDACTED.\n"
     ]
    }
   ],
   "source": [
    "print('The average lifetime value for a person who orders the Starter Bundle first is $' + 'REDACTED' + \", and for a person who doesn't order the Starter Bundle first, it's $\" + 'REDACTED' + '.')"
   ]
  },
  {
   "cell_type": "markdown",
   "id": "375fa47a",
   "metadata": {},
   "source": [
    "Here, we can tell fairly clearly that people who buy the Starter Bundle as their first product spend on average ~$REDACTED more than people who don't buy the starter bundle as their first product."
   ]
  },
  {
   "cell_type": "markdown",
   "id": "4476738b",
   "metadata": {},
   "source": [
    "Now, I want to see the total value of a person whose first purchase was the Lugol's 5% since a large amount of those orders in the f_nsb DataFrame were Lugol's 5%."
   ]
  },
  {
   "cell_type": "code",
   "execution_count": 18,
   "id": "69c84518",
   "metadata": {},
   "outputs": [
    {
     "data": {
      "text/plain": [
       "(1157, 6)"
      ]
     },
     "execution_count": 18,
     "metadata": {},
     "output_type": "execute_result"
    }
   ],
   "source": [
    "#CALCULATING AVERAGE TOTAL SALES NUMBERS FOR LUGOL'S 5%\n",
    "f_l_temp = pd.concat([first_orders_returned[first_orders_returned['product_name'] == \"Lugol's 5%\"], returning_orders[returning_orders['customer_id'].isin(first_orders_returned[first_orders_returned['product_name'] == \"Lugol's 5%\"]['customer_id'])]])\n",
    "f_l_temp.shape"
   ]
  },
  {
   "cell_type": "code",
   "execution_count": 19,
   "id": "f5338803",
   "metadata": {},
   "outputs": [
    {
     "name": "stdout",
     "output_type": "stream",
     "text": [
      "product_name\n",
      "Lugol's 5%        46.164021\n",
      "ThyroConvert      20.767196\n",
      "Starter Bundle    17.857143\n",
      "HaloDetox          8.994709\n",
      "Thiodine           6.216931\n",
      "Name: customer_type, dtype: float64\n"
     ]
    }
   ],
   "source": [
    "print((f_l_temp[f_l_temp['customer_type'] == 'Returning'].groupby('product_name').count().sort_values('customer_type', ascending = False) / f_l_temp[f_l_temp['customer_type'] == 'Returning'].groupby('product_name').count().sum()*100)['customer_type'])"
   ]
  },
  {
   "cell_type": "markdown",
   "id": "cc15b7ba",
   "metadata": {},
   "source": [
    "It is definitely worth noting that nearly half of the people who ordered Lugol's 5% with their first order bought that same product the next time around. Let's find that same mean lifetime value for if a person specifically orders Lugol's 5% on their first order."
   ]
  },
  {
   "cell_type": "code",
   "execution_count": 20,
   "id": "cdfabb1f",
   "metadata": {},
   "outputs": [],
   "source": [
    "f_l = pd.concat([first_orders[first_orders['product_name'] == \"Lugol's 5%\"], returning_orders[returning_orders['customer_id'].isin(first_orders[first_orders['product_name'] == \"Lugol's 5%\"]['customer_id'])]])\n",
    "fl_mean = float(round(f_l[['customer_id', 'total_sales']].groupby('customer_id').agg('sum').sort_values('total_sales', ascending = False).mean(), 2))"
   ]
  },
  {
   "cell_type": "code",
   "execution_count": 21,
   "id": "4c9528c7",
   "metadata": {},
   "outputs": [
    {
     "name": "stdout",
     "output_type": "stream",
     "text": [
      "When a person orders any product except for the Starter Bundle first, their lifetime value is $REDACTED, however when they order the Lugol's 5% first, it's $REDACTED.\n"
     ]
    }
   ],
   "source": [
    "print('When a person orders any product except for the Starter Bundle first, their lifetime value is $' + 'REDACTED' + \", however when they order the Lugol's 5% first, it's $\" + 'REDACTED' + '.')"
   ]
  },
  {
   "cell_type": "markdown",
   "id": "8a115050",
   "metadata": {},
   "source": [
    "Interestingly enough, a person's lifetime value is significantly lower if they order the Lugol's 5% than if they order just any product besides the Starter Bundle. We still want to see how much a certain value would normally deviate from the mean."
   ]
  },
  {
   "cell_type": "code",
   "execution_count": 22,
   "id": "37f515f0",
   "metadata": {},
   "outputs": [],
   "source": [
    "#STANDARD DEVIATION OF THE 3 MOST RECENT DATABASES\n",
    "fsb_std = float(round(f_sb[['customer_id', 'total_sales']].groupby('customer_id').agg('sum').sort_values('total_sales', ascending = False).std(), 2))\n",
    "fnsb_std = float(round(f_nsb[['customer_id', 'total_sales']].groupby('customer_id').agg('sum').sort_values('total_sales', ascending = False).std(), 2))\n",
    "fl_std = float(round(f_l[['customer_id', 'total_sales']].groupby('customer_id').agg('sum').sort_values('total_sales', ascending = False).std(), 2))"
   ]
  },
  {
   "cell_type": "code",
   "execution_count": 23,
   "id": "76ed37fc",
   "metadata": {},
   "outputs": [
    {
     "name": "stdout",
     "output_type": "stream",
     "text": [
      "The standard deviations for a customer's first order being the Starter Bundle, anything but the Starter Bundle, and Lugol's 5% are $REDACTED, $REDACTED, and $REDACTED.\n"
     ]
    }
   ],
   "source": [
    "print(\"The standard deviations for a customer's first order being the Starter Bundle, anything but the Starter Bundle, and Lugol's 5% are $\" + 'REDACTED' + ', $' + 'REDACTED' + ', and $' + 'REDACTED' + '.')"
   ]
  },
  {
   "cell_type": "markdown",
   "id": "0eccf266",
   "metadata": {},
   "source": [
    "We even notice a much smaller standard deviation with people who ordered the Starter Bundle as their first item! Just to totally confirm our previous findings, I am going to find the same numbers, but this time I will only use the returning numbers since those are what build lifetime customer value."
   ]
  },
  {
   "cell_type": "code",
   "execution_count": 24,
   "id": "09166081",
   "metadata": {},
   "outputs": [],
   "source": [
    "fsbr_mean = float(round(f_sb[f_sb['customer_type'] == 'Returning'].loc[:, ['customer_id', 'total_sales']].groupby('customer_id').agg('sum').sort_values('total_sales', ascending = False).mean(), 2))\n",
    "fnsbr_mean = float(round(f_nsb[f_nsb['customer_type'] == 'Returning'].loc[:, ['customer_id', 'total_sales']].groupby('customer_id').agg('sum').sort_values('total_sales', ascending = False).mean(), 2))\n",
    "flr_mean = float(round(f_l[f_l['customer_type'] == 'Returning'].loc[:, ['customer_id', 'total_sales']].groupby('customer_id').agg('sum').sort_values('total_sales', ascending = False).mean(), 2))"
   ]
  },
  {
   "cell_type": "code",
   "execution_count": 25,
   "id": "371d875c",
   "metadata": {},
   "outputs": [],
   "source": [
    "fsbr_std = float(round(f_sb[f_sb['customer_type'] == 'Returning'].loc[:, ['customer_id', 'total_sales']].groupby('customer_id').agg('sum').sort_values('total_sales', ascending = False).std(), 2))\n",
    "fnsbr_std = float(round(f_nsb[f_nsb['customer_type'] == 'Returning'].loc[:, ['customer_id', 'total_sales']].groupby('customer_id').agg('sum').sort_values('total_sales', ascending = False).std(), 2))\n",
    "flr_std = float(round(f_l[f_l['customer_type'] == 'Returning'].loc[:, ['customer_id', 'total_sales']].groupby('customer_id').agg('sum').sort_values('total_sales', ascending = False).std(), 2))"
   ]
  },
  {
   "cell_type": "code",
   "execution_count": 26,
   "id": "09719619",
   "metadata": {},
   "outputs": [
    {
     "name": "stdout",
     "output_type": "stream",
     "text": [
      "The mean and standard deviation for customer's returning orders if they first order the Starter Bundle is $REDACTED and $REDACTED.\n"
     ]
    }
   ],
   "source": [
    "print(\"The mean and standard deviation for customer's returning orders if they first order the Starter Bundle is $\" + 'REDACTED' + ' and $' + 'REDACTED' + '.')"
   ]
  },
  {
   "cell_type": "code",
   "execution_count": 27,
   "id": "319daa38",
   "metadata": {},
   "outputs": [
    {
     "name": "stdout",
     "output_type": "stream",
     "text": [
      "The mean and standard deviation for customer's returning orders when they first order anything except for the Starter Bundle is $REDACTED and $REDACTED.\n"
     ]
    }
   ],
   "source": [
    "print(\"The mean and standard deviation for customer's returning orders when they first order anything except for the Starter Bundle is $\" + 'REDACTED' + ' and $' + 'REDACTED' + '.')"
   ]
  },
  {
   "cell_type": "code",
   "execution_count": 28,
   "id": "024fd1b5",
   "metadata": {},
   "outputs": [
    {
     "name": "stdout",
     "output_type": "stream",
     "text": [
      "The mean and standard deviation for customer's returning orders when they first order the Lugol's 5% is $REDACTED and $REDACTED.\n"
     ]
    }
   ],
   "source": [
    "print(\"The mean and standard deviation for customer's returning orders when they first order the Lugol's 5% is $\" + 'REDACTED' + ' and $' + 'REDACTED' + '.')"
   ]
  },
  {
   "cell_type": "markdown",
   "id": "2742680c",
   "metadata": {},
   "source": [
    "Interestingly, a customer's returning orders tend to have a higher value if the customer doesn't start out with the Starter Bundle. This is a very very useful piece of information to keep in mind."
   ]
  },
  {
   "cell_type": "markdown",
   "id": "0c38f133",
   "metadata": {},
   "source": [
    "Now this data is helpful, but it would be even more helpful if we knew the same pieces of information for each person's first orders, since they could order multiple products or have gotten a discount."
   ]
  },
  {
   "cell_type": "code",
   "execution_count": 29,
   "id": "4ebb2e0e",
   "metadata": {},
   "outputs": [],
   "source": [
    "fsbf_mean = float(round(f_sb[f_sb['customer_type'] == 'First-time'].loc[:, ['customer_id', 'total_sales']].groupby('customer_id').agg('sum').sort_values('total_sales', ascending = False).mean(), 2))\n",
    "fnsbf_mean = float(round(f_nsb[f_nsb['customer_type'] == 'First-time'].loc[:, ['customer_id', 'total_sales']].groupby('customer_id').agg('sum').sort_values('total_sales', ascending = False).mean(), 2))\n",
    "flf_mean = float(round(f_l[f_l['customer_type'] == 'First-time'].loc[:, ['customer_id', 'total_sales']].groupby('customer_id').agg('sum').sort_values('total_sales', ascending = False).mean(), 2))"
   ]
  },
  {
   "cell_type": "code",
   "execution_count": 30,
   "id": "75581373",
   "metadata": {},
   "outputs": [],
   "source": [
    "fsbf_std = float(round(f_sb[f_sb['customer_type'] == 'First-time'].loc[:, ['customer_id', 'total_sales']].groupby('customer_id').agg('sum').sort_values('total_sales', ascending = False).std(), 2))\n",
    "fnsbf_std = float(round(f_nsb[f_nsb['customer_type'] == 'First-time'].loc[:, ['customer_id', 'total_sales']].groupby('customer_id').agg('sum').sort_values('total_sales', ascending = False).std(), 2))\n",
    "flf_std = float(round(f_l[f_l['customer_type'] == 'First-time'].loc[:, ['customer_id', 'total_sales']].groupby('customer_id').agg('sum').sort_values('total_sales', ascending = False).std(), 2))"
   ]
  },
  {
   "cell_type": "code",
   "execution_count": 31,
   "id": "b81351d8",
   "metadata": {},
   "outputs": [
    {
     "name": "stdout",
     "output_type": "stream",
     "text": [
      "The mean and standard deviation for customer's first orders if they first order the Starter Bundle is $REDACTED and $REDACTED.\n"
     ]
    }
   ],
   "source": [
    "print(\"The mean and standard deviation for customer's first orders if they first order the Starter Bundle is $\" + 'REDACTED' + ' and $' + 'REDACTED' + '.')"
   ]
  },
  {
   "cell_type": "code",
   "execution_count": 32,
   "id": "13878f14",
   "metadata": {},
   "outputs": [
    {
     "name": "stdout",
     "output_type": "stream",
     "text": [
      "The mean and standard deviation for customer's first orders if they first order anything except for the Starter Bundle is $REDACTED and $REDACTED.\n"
     ]
    }
   ],
   "source": [
    "print(\"The mean and standard deviation for customer's first orders if they first order anything except for the Starter Bundle is $\" + 'REDACTED' + ' and $' + 'REDACTED' + '.')"
   ]
  },
  {
   "cell_type": "code",
   "execution_count": 33,
   "id": "c80bd383",
   "metadata": {
    "scrolled": true
   },
   "outputs": [
    {
     "name": "stdout",
     "output_type": "stream",
     "text": [
      "The mean and standard deviation for customer's first orders if they first order the Lugol's 5% is $REDACTED and $REDACTED.\n"
     ]
    }
   ],
   "source": [
    "print(\"The mean and standard deviation for customer's first orders if they first order the Lugol's 5% is $\" + 'REDACTED' + ' and $' + 'REDACTED' + '.')"
   ]
  },
  {
   "cell_type": "markdown",
   "id": "3edabeeb",
   "metadata": {},
   "source": [
    "As we'd expect, people who purchase the Starter Bundle first have the highest first order average value. This is right along with what we'd think since the Starter Bundle costs a lot more than any of the other products."
   ]
  },
  {
   "cell_type": "markdown",
   "id": "e2cceea3",
   "metadata": {},
   "source": [
    "One piece of information really stuck out to me above in the count_otc DataFrame, that being the drop off rate of people who first decide to order the Starter Bundle. This data that we were just working with was only showing us what happens when the customers do decide to come back. Now, we have to take into account how often customer are one-and-done with us."
   ]
  },
  {
   "cell_type": "markdown",
   "id": "8b9b86b6",
   "metadata": {},
   "source": [
    "Obviously, people who only place one order and don't come back have a smaller lifetime value. We would like to see if promoting the Starter Bundle more agressively is hurting our profits in the long term, given that the Starter Bundle has a very high drop off rate."
   ]
  },
  {
   "cell_type": "code",
   "execution_count": 34,
   "id": "5e0b62a9",
   "metadata": {},
   "outputs": [],
   "source": [
    "fo_sbn = count_fo.rename(columns = {'count': 'total_count', 'percentage': 'total_percentage'})\n",
    "nsb_count = fo_sbn['total_count'].iloc[1:].sum()\n",
    "fo_sbn = fo_sbn.drop(['Thiodine', 'ThyroConvert', 'HaloDetox', 'Starter Bundle with Coaching'], axis = 0)"
   ]
  },
  {
   "cell_type": "code",
   "execution_count": 35,
   "id": "c605b545",
   "metadata": {},
   "outputs": [
    {
     "name": "stderr",
     "output_type": "stream",
     "text": [
      "C:\\Users\\Anthony\\AppData\\Local\\Temp\\ipykernel_8084\\1615830562.py:2: FutureWarning: The frame.append method is deprecated and will be removed from pandas in a future version. Use pandas.concat instead.\n",
      "  fo_sbn = fo_sbn.append(df_temp)\n"
     ]
    }
   ],
   "source": [
    "df_temp = pd.DataFrame([[nsb_count, 0], ], columns=['total_count', 'total_percentage'], index=['Not Starter Bundle'])\n",
    "fo_sbn = fo_sbn.append(df_temp)"
   ]
  },
  {
   "cell_type": "code",
   "execution_count": 36,
   "id": "ee05698b",
   "metadata": {},
   "outputs": [],
   "source": [
    "fo_sbn.loc['Not Starter Bundle', 'total_percentage'] = nsb_count / (fo_sbn['total_count'].sum() - fo_sbn.loc[\"Lugol's 5%\", 'total_count']) * 100"
   ]
  },
  {
   "cell_type": "markdown",
   "id": "89fa1542",
   "metadata": {},
   "source": [
    "Now to add a few columns to that to make it more useful."
   ]
  },
  {
   "cell_type": "code",
   "execution_count": 37,
   "id": "75001968",
   "metadata": {},
   "outputs": [],
   "source": [
    "#ADDING IN A CONVERSION RATE FOR HOW OFTEN THIS CUSTOMER COMES BACK\n",
    "fsb_conv = count_for.loc['Starter Bundle', 'count'] / count_fo.loc['Starter Bundle', 'count']\n",
    "fnsb_conv = count_for.iloc[1:, 0].sum() / count_fo.iloc[1:, 0].sum()\n",
    "fl_conv = count_for.loc[\"Lugol's 5%\", 'count'] / count_fo.loc[\"Lugol's 5%\", 'count']\n",
    "fo_sbn['conv_rate (pct)'] = [fsb_conv * 100, fl_conv * 100, fnsb_conv * 100]"
   ]
  },
  {
   "cell_type": "code",
   "execution_count": 38,
   "id": "2233fd1a",
   "metadata": {},
   "outputs": [],
   "source": [
    "#ADDING IN MY MEAN VALUE COLUMN\n",
    "fo_sbn['mean_value ($)'] = [fsb_mean, fl_mean, fnsb_mean]\n",
    "fo_sbn['mean_value ($)'] = fo_sbn['mean_value ($)'].astype(float)"
   ]
  },
  {
   "cell_type": "code",
   "execution_count": 39,
   "id": "a4d301a4",
   "metadata": {},
   "outputs": [],
   "source": [
    "#ADDING IN MY STANDARD DEVIATION COLUMN\n",
    "fo_sbn['std_value ($)'] = [fsb_std, fl_std, fnsb_std]\n",
    "fo_sbn['std_value ($)'] = fo_sbn['std_value ($)'].astype(float)"
   ]
  },
  {
   "cell_type": "code",
   "execution_count": 40,
   "id": "1caee29f",
   "metadata": {},
   "outputs": [],
   "source": [
    "#ADDING IN MEAN AND STANDARD DEVIATION FOR SPECIFICALLY THE FIRST ORDER AND THE RETURNING ORDER\n",
    "fo_sbn['fo_mean ($)'] = [fsbf_mean, flf_mean, fnsbf_mean]\n",
    "fo_sbn['fo_std ($)'] = [fsbf_std, flf_std, fnsbf_std]\n",
    "fo_sbn['ro_mean ($)'] = [fsbr_mean, flr_mean, fnsbr_mean]\n",
    "fo_sbn['ro_std ($)'] = [fsbr_std, flr_std, fnsbr_std]"
   ]
  },
  {
   "cell_type": "markdown",
   "id": "87cb243f",
   "metadata": {},
   "source": [
    "With the data collected, we can see that while a person who starts their customer journey with the Starter Bundle will likely have a higher lifetime value than someone who doesn't, we have to keep in mind the scope of our data. Since our data has been collected over a 3 year span from June of 2019 to May of 2022, it's important to take into account that a person wouldn't have time to realize their true lifetime value in that short of a time. Specifically with the Lugol's 5% which has 300 servings per bottle, a person would have to use that product every day for nearly a year to even see a value larger than their initial purchase price. This data won't be useful for future predictions, rather as a reflection of the data that we have already collected to get here."
   ]
  },
  {
   "cell_type": "markdown",
   "id": "4ee250fa",
   "metadata": {},
   "source": [
    "Finally, I am going to create a DataFrame organized into Starter Bundle, Not Starter Bundle, and Lugol's 5% just like above. This DataFrame however will have each instance of what a person first orders, their first order value, their returning order value, their lifetime value, and their customer id. There will be repeating instance when a person orders Lugol's 5%, but that's okay. The Starter Bundle and Lugol's 5% make up for >91% of the first orders, so we will not be comparing Lugol's 5% to first orders that were not the Starter Bundle. "
   ]
  },
  {
   "cell_type": "code",
   "execution_count": 41,
   "id": "7929731d",
   "metadata": {},
   "outputs": [],
   "source": [
    "f_sb2 = f_sb.groupby('customer_id').agg('sum')\n",
    "f_nsb2 = f_nsb.groupby('customer_id').agg('sum')\n",
    "f_l2 = f_l.groupby('customer_id').agg('sum')"
   ]
  },
  {
   "cell_type": "code",
   "execution_count": 42,
   "id": "8fe8c36b",
   "metadata": {},
   "outputs": [],
   "source": [
    "f_sb2['type'] = 'sb'\n",
    "f_nsb2['type'] = 'nsb'\n",
    "f_l2['type'] = 'l5'"
   ]
  },
  {
   "cell_type": "code",
   "execution_count": 43,
   "id": "e2f781ef",
   "metadata": {},
   "outputs": [],
   "source": [
    "f_sb2 = f_sb2.drop(['product_price', 'ordered_item_quantity'], axis = 1)\n",
    "f_nsb2 = f_nsb2.drop(['product_price', 'ordered_item_quantity'], axis = 1)\n",
    "f_l2 = f_l2.drop(['product_price', 'ordered_item_quantity'], axis = 1)"
   ]
  },
  {
   "cell_type": "code",
   "execution_count": 44,
   "id": "942f5da7",
   "metadata": {},
   "outputs": [],
   "source": [
    "df1 = f_sb[f_sb['customer_type'] == 'Returning'].loc[:, ['customer_id', 'total_sales']].groupby('customer_id').agg('sum').sort_values('total_sales', ascending = False)\n",
    "df2 = f_nsb[f_nsb['customer_type'] == 'Returning'].loc[:, ['customer_id', 'total_sales']].groupby('customer_id').agg('sum').sort_values('total_sales', ascending = False)\n",
    "df3 = f_l[f_l['customer_type'] == 'Returning'].loc[:, ['customer_id', 'total_sales']].groupby('customer_id').agg('sum').sort_values('total_sales', ascending = False)\n",
    "df4 = f_sb[f_sb['customer_type'] == 'First-time'].loc[:, ['customer_id', 'total_sales']].groupby('customer_id').agg('sum').sort_values('total_sales', ascending = False)\n",
    "df5 = f_nsb[f_nsb['customer_type'] == 'First-time'].loc[:, ['customer_id', 'total_sales']].groupby('customer_id').agg('sum').sort_values('total_sales', ascending = False)\n",
    "df6 = f_l[f_l['customer_type'] == 'First-time'].loc[:, ['customer_id', 'total_sales']].groupby('customer_id').agg('sum').sort_values('total_sales', ascending = False)"
   ]
  },
  {
   "cell_type": "code",
   "execution_count": 45,
   "id": "c323be09",
   "metadata": {},
   "outputs": [],
   "source": [
    "df1 = df1.rename(columns = {'total_sales': 'returning_sales'})\n",
    "df2 = df2.rename(columns = {'total_sales': 'returning_sales'})\n",
    "df3 = df3.rename(columns = {'total_sales': 'returning_sales'})\n",
    "df4 = df4.rename(columns = {'total_sales': 'first_sales'})\n",
    "df5 = df5.rename(columns = {'total_sales': 'first_sales'})\n",
    "df6 = df6.rename(columns = {'total_sales': 'first_sales'})\n",
    "df = pd.concat([f_sb2, f_nsb2, f_l2])"
   ]
  },
  {
   "cell_type": "code",
   "execution_count": 46,
   "id": "9a4cdb10",
   "metadata": {},
   "outputs": [],
   "source": [
    "df7 = pd.concat([df4, df5, df6])\n",
    "df = df.join(df7, on = 'customer_id')\n",
    "df8 = pd.concat([df1, df2, df3])\n",
    "df = df.join(df8, on = 'customer_id')"
   ]
  },
  {
   "cell_type": "code",
   "execution_count": 47,
   "id": "7829b1c9",
   "metadata": {},
   "outputs": [
    {
     "data": {
      "text/html": [
       "<div>\n",
       "<style scoped>\n",
       "    .dataframe tbody tr th:only-of-type {\n",
       "        vertical-align: middle;\n",
       "    }\n",
       "\n",
       "    .dataframe tbody tr th {\n",
       "        vertical-align: top;\n",
       "    }\n",
       "\n",
       "    .dataframe thead th {\n",
       "        text-align: right;\n",
       "    }\n",
       "</style>\n",
       "<table border=\"1\" class=\"dataframe\">\n",
       "  <thead>\n",
       "    <tr style=\"text-align: right;\">\n",
       "      <th></th>\n",
       "      <th>count</th>\n",
       "      <th>%</th>\n",
       "    </tr>\n",
       "  </thead>\n",
       "  <tbody>\n",
       "    <tr>\n",
       "      <th>returning_sales</th>\n",
       "      <td>17390</td>\n",
       "      <td>81.189598</td>\n",
       "    </tr>\n",
       "    <tr>\n",
       "      <th>total_sales</th>\n",
       "      <td>0</td>\n",
       "      <td>0.000000</td>\n",
       "    </tr>\n",
       "    <tr>\n",
       "      <th>type</th>\n",
       "      <td>0</td>\n",
       "      <td>0.000000</td>\n",
       "    </tr>\n",
       "    <tr>\n",
       "      <th>first_sales</th>\n",
       "      <td>0</td>\n",
       "      <td>0.000000</td>\n",
       "    </tr>\n",
       "  </tbody>\n",
       "</table>\n",
       "</div>"
      ],
      "text/plain": [
       "                 count          %\n",
       "returning_sales  17390  81.189598\n",
       "total_sales          0   0.000000\n",
       "type                 0   0.000000\n",
       "first_sales          0   0.000000"
      ]
     },
     "execution_count": 47,
     "metadata": {},
     "output_type": "execute_result"
    }
   ],
   "source": [
    "#ENSURING THERE ARE NO EMPTY CELLS#\n",
    "missing = pd.concat([df.isnull().sum(), 100 * df.isnull().mean()], axis=1)\n",
    "missing.columns=['count', '%']\n",
    "missing.sort_values(by='count', ascending = False)"
   ]
  },
  {
   "cell_type": "code",
   "execution_count": 48,
   "id": "4c68658f",
   "metadata": {},
   "outputs": [],
   "source": [
    "df = df.drop('returning_sales', axis = 1)"
   ]
  },
  {
   "cell_type": "code",
   "execution_count": 49,
   "id": "58e7824a",
   "metadata": {},
   "outputs": [],
   "source": [
    "df['returning_sales'] = df['total_sales'] - df['first_sales']"
   ]
  },
  {
   "cell_type": "code",
   "execution_count": 50,
   "id": "2d6c3420",
   "metadata": {},
   "outputs": [],
   "source": [
    "df = df[df['returning_sales'] >= 0]"
   ]
  },
  {
   "cell_type": "code",
   "execution_count": 51,
   "id": "e3c29bdd",
   "metadata": {},
   "outputs": [
    {
     "data": {
      "text/plain": [
       "(21042, 4)"
      ]
     },
     "execution_count": 51,
     "metadata": {},
     "output_type": "execute_result"
    }
   ],
   "source": [
    "df.shape"
   ]
  },
  {
   "cell_type": "markdown",
   "id": "e12d0836",
   "metadata": {},
   "source": [
    "Now I have my DataFrame that contains all of my data for the totals for all 3 types, called fo_sbn. I also have my DataFrame with every instance that occurred when collecting data. Below I will create a few histograms with the data I collected to see how it is distributed."
   ]
  },
  {
   "cell_type": "code",
   "execution_count": 52,
   "id": "00105fe4",
   "metadata": {},
   "outputs": [],
   "source": [
    "#THIS HISTOGRAM SHOWS THE DISTRIBUTION OF THE CUSTOMER'S LIFETIME VALUE\n",
    "#df['total_sales'].hist(bins = 40)\n",
    "#plt.xlabel('Total Lifetime Value')\n",
    "#plt.ylabel('Number of Instances')"
   ]
  },
  {
   "cell_type": "code",
   "execution_count": 53,
   "id": "129dfcfb",
   "metadata": {},
   "outputs": [],
   "source": [
    "#sns.scatterplot(data = df, x = 'returning_sales', y = 'first_sales')"
   ]
  },
  {
   "cell_type": "code",
   "execution_count": 54,
   "id": "187df3e3",
   "metadata": {},
   "outputs": [],
   "source": [
    "#ax = sns.violinplot(x='type', y='total_sales', data = df)\n",
    "#ax.set_xlabel('First Product Ordered')\n",
    "#ax.set_ylabel('Total Sales ($)')\n",
    "#ax.set_title('Distribution of How Much People Spend Based on the First Product Ordered')"
   ]
  },
  {
   "cell_type": "markdown",
   "id": "cece3975",
   "metadata": {},
   "source": [
    "As we can see, the data is so left skewed that none of these plots hold a lot of value. We will have to take this data over to a train/test split in the next step: preprocessing and training."
   ]
  },
  {
   "cell_type": "code",
   "execution_count": 55,
   "id": "16c49f9c",
   "metadata": {},
   "outputs": [
    {
     "name": "stdout",
     "output_type": "stream",
     "text": [
      "Writing file.  \"C:/Users/Anthony/GitHub/Capstone-Two/Data\\fo_sbn.csv\"\n"
     ]
    }
   ],
   "source": [
    "datapath = 'C:/Users/Anthony/GitHub/Capstone-Two/Data'\n",
    "save_file(fo_sbn, 'fo_sbn.csv', datapath)"
   ]
  },
  {
   "cell_type": "code",
   "execution_count": 56,
   "id": "fb46bb60",
   "metadata": {},
   "outputs": [
    {
     "name": "stdout",
     "output_type": "stream",
     "text": [
      "Writing file.  \"C:/Users/Anthony/GitHub/Capstone-Two/Data\\df.csv\"\n"
     ]
    }
   ],
   "source": [
    "save_file(df, 'df.csv', datapath)"
   ]
  },
  {
   "cell_type": "markdown",
   "id": "a6e7011d",
   "metadata": {},
   "source": [
    "During my exploratory data analysis, I learned a lot about the shape and the size of the data that I'm working with. While trying to figure out how to create a larger customer lifetime value, I realized how many people will order one item and be totally done. This causes all of the data to be super right skewed and makes the mean very unreliable. During the next step, I will be training and testing my data to see, over time, which initially bought product will create the most lifetime value for each person."
   ]
  }
 ],
 "metadata": {
  "kernelspec": {
   "display_name": "Python 3 (ipykernel)",
   "language": "python",
   "name": "python3"
  },
  "language_info": {
   "codemirror_mode": {
    "name": "ipython",
    "version": 3
   },
   "file_extension": ".py",
   "mimetype": "text/x-python",
   "name": "python",
   "nbconvert_exporter": "python",
   "pygments_lexer": "ipython3",
   "version": "3.9.13"
  }
 },
 "nbformat": 4,
 "nbformat_minor": 5
}
